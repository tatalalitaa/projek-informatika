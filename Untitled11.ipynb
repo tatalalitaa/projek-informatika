{
  "nbformat": 4,
  "nbformat_minor": 0,
  "metadata": {
    "colab": {
      "provenance": [],
      "authorship_tag": "ABX9TyOIs58Ify8pDhGnZKkDKWHm",
      "include_colab_link": true
    },
    "kernelspec": {
      "name": "python3",
      "display_name": "Python 3"
    },
    "language_info": {
      "name": "python"
    }
  },
  "cells": [
    {
      "cell_type": "markdown",
      "metadata": {
        "id": "view-in-github",
        "colab_type": "text"
      },
      "source": [
        "<a href=\"https://colab.research.google.com/github/tatalalitaa/projek-informatika/blob/main/Untitled11.ipynb\" target=\"_parent\"><img src=\"https://colab.research.google.com/assets/colab-badge.svg\" alt=\"Open In Colab\"/></a>"
      ]
    },
    {
      "cell_type": "code",
      "execution_count": 1,
      "metadata": {
        "colab": {
          "base_uri": "https://localhost:8080/"
        },
        "id": "jUNVOhXjKOaq",
        "outputId": "343760d9-8849-4ddd-fa3f-4c4929e92244"
      },
      "outputs": [
        {
          "output_type": "stream",
          "name": "stdout",
          "text": [
            "===== Tes Love Language =====\n",
            "Jawab setiap pernyataan berikut dengan opsi yang ada dan sesuai dengan diri kamu yaa!!!\n",
            "\n",
            "1. Aku merasa dicintai ketika:\n",
            "   A. Seseorang mengatakan hal manis & membesarkan hati\n",
            "   B. Seseorang menghabiskan waktu berkualitas denganku\n",
            "Jawaban (A/B): A\n",
            "\n",
            "2. Aku merasa:\n",
            "   A. Senang saat mendapatkan hadiah penuh makna\n",
            "   B. Hangat ketika disentuh dengan lembut, seperti pelukan\n",
            "Jawaban (A/B): B\n",
            "\n",
            "3. Aku merasa:\n",
            "   A. Terbantu saat seseorang melakukan hal kecil untukku tanpa diminta\n",
            "   B. Dipahami saat seseorang duduk menemaniku meskipun tanpa kata-kata\n",
            "Jawaban (A/B): A\n",
            "\n",
            "🎉 Hasil Kuismu 🎉\n",
            "Love language-mu adalah: Physical Touch\n",
            "\n",
            "Penjelasan:\n",
            "Sentuhan fisik seperti pelukan, genggaman tangan, atau tepukan lembut membuatmu merasa dicintai. Kontak fisik sederhana memiliki arti besar untukmu karena bisa memberi rasa aman, nyaman, dan dekat secara emosional.\n"
          ]
        }
      ],
      "source": [
        "def penjelasan_love_language(love_language):\n",
        "    penjelasan = {\n",
        "        \"Words of Affirmation\":\n",
        "            \"Kamu merasa dicintai saat mendengar kata-kata yang membangun dan penuh kasih sayang. \"\n",
        "            \"Ucapan seperti 'Aku bangga sama kamu' atau 'Kamu penting buatku' membuatmu merasa dihargai dan diperhatikan. \"\n",
        "            \"Kalimat yang tulus bisa memberi dampak besar bagi hatimu.\",\n",
        "\n",
        "        \"Receiving Gifts\":\n",
        "            \"Bagi kamu, hadiah bukan soal harga, tapi makna di baliknya. \"\n",
        "            \"Kamu merasa dicintai saat seseorang memberimu sesuatu yang menunjukkan bahwa mereka memikirkanmu — \"\n",
        "            \"bisa berupa barang kecil, kejutan, atau sesuatu yang spesial. Hadiah menjadi simbol perhatian.\",\n",
        "\n",
        "        \"Physical Touch\":\n",
        "            \"Sentuhan fisik seperti pelukan, genggaman tangan, atau tepukan lembut membuatmu merasa dicintai. \"\n",
        "            \"Kontak fisik sederhana memiliki arti besar untukmu karena bisa memberi rasa aman, nyaman, dan dekat secara emosional.\",\n",
        "\n",
        "        \"Quality Time\":\n",
        "            \"Kamu merasa dicintai saat seseorang memberikan waktunya sepenuhnya untukmu. \"\n",
        "            \"Momen kebersamaan tanpa gangguan, seperti ngobrol, jalan bareng, atau melakukan kegiatan bersama sangat berarti. \"\n",
        "            \"Perhatian penuh adalah bahasa cintamu.\",\n",
        "\n",
        "        \"Acts of Service\":\n",
        "            \"Tindakan lebih berbicara daripada kata-kata. Kamu merasa dihargai saat seseorang melakukan sesuatu untuk membantumu — \"\n",
        "            \"misalnya membantu tugas, mengingatkan hal penting, atau melakukan sesuatu tanpa diminta. \"\n",
        "            \"Ini menunjukkan bahwa kamu diprioritaskan.\"\n",
        "    }\n",
        "\n",
        "    return penjelasan.get(love_language, \"Penjelasan tidak tersedia untuk hasil ini.\")\n",
        "\n",
        "# ========== MULAI PROGRAM ==========\n",
        "\n",
        "print(\"===== Tes Love Language =====\")\n",
        "print(\"Jawab setiap pernyataan berikut dengan opsi yang ada dan sesuai dengan diri kamu yaa!!!\\n\")\n",
        "\n",
        "# Pertanyaan 1\n",
        "print(\"1. Aku merasa dicintai ketika:\")\n",
        "print(\"   A. Seseorang mengatakan hal manis & membesarkan hati\")\n",
        "print(\"   B. Seseorang menghabiskan waktu berkualitas denganku\")\n",
        "jawaban1 = input(\"Jawaban (A/B): \").strip().upper()\n",
        "\n",
        "# Pertanyaan 2\n",
        "print(\"\\n2. Aku merasa:\")\n",
        "print(\"   A. Senang saat mendapatkan hadiah penuh makna\")\n",
        "print(\"   B. Hangat ketika disentuh dengan lembut, seperti pelukan\")\n",
        "jawaban2 = input(\"Jawaban (A/B): \").strip().upper()\n",
        "\n",
        "# Pertanyaan 3\n",
        "print(\"\\n3. Aku merasa:\")\n",
        "print(\"   A. Terbantu saat seseorang melakukan hal kecil untukku tanpa diminta\")\n",
        "print(\"   B. Dipahami saat seseorang duduk menemaniku meskipun tanpa kata-kata\")\n",
        "jawaban3 = input(\"Jawaban (A/B): \").strip().upper()\n",
        "\n",
        "# Menentukan hasil\n",
        "kombinasi = (jawaban1, jawaban2, jawaban3)\n",
        "\n",
        "hasil = {\n",
        "    ('A', 'A', 'A'): \"Words of Affirmation\",\n",
        "    ('A', 'A', 'B'): \"Receiving Gifts\",\n",
        "    ('A', 'B', 'A'): \"Physical Touch\",\n",
        "    ('A', 'B', 'B'): \"Quality Time\",\n",
        "    ('B', 'A', 'A'): \"Acts of Service\",\n",
        "    ('B', 'A', 'B'): \"Words of Affirmation\",\n",
        "    ('B', 'B', 'A'): \"Physical Touch\",\n",
        "    ('B', 'B', 'B'): \"Quality Time\"\n",
        "}\n",
        "\n",
        "love_language = hasil.get(kombinasi, \"Tidak dikenali\")\n",
        "\n",
        "print(\"\\n🎉 Hasil Kuismu 🎉\")\n",
        "print(\"Love language-mu adalah:\", love_language)\n",
        "\n",
        "if love_language != \"Tidak dikenali\":\n",
        "    print(\"\\nPenjelasan:\")\n",
        "    print(penjelasan_love_language(love_language))\n",
        "else:\n",
        "    print(\"Maaf, kombinasi jawabanmu belum dikenali.\")"
      ]
    }
  ]
}